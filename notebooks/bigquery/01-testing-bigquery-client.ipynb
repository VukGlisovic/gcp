{
 "cells": [
  {
   "cell_type": "code",
   "execution_count": null,
   "metadata": {},
   "outputs": [],
   "source": [
    "%load_ext autoreload\n",
    "%autoreload 2\n",
    "# For reloading code such that code changes are taken into account"
   ]
  },
  {
   "cell_type": "code",
   "execution_count": null,
   "metadata": {},
   "outputs": [],
   "source": [
    "project_id = 'test-project-221821'\n",
    "\n",
    "\n",
    "import os\n",
    "os.environ['GOOGLE_APPLICATION_CREDENTIALS'] = os.path.join(os.environ['HOME'], 'gcp/secret/admin-service-account.json')\n",
    "import sys\n",
    "sys.path.append(os.path.join(os.environ['HOME'], 'gcp'))\n",
    "\n",
    "from google.cloud import bigquery\n",
    "from bigquery.client import Bigquery\n",
    "\n",
    "import pytz\n",
    "import names\n",
    "import numpy as np\n",
    "import datetime as dt"
   ]
  },
  {
   "cell_type": "markdown",
   "metadata": {},
   "source": [
    "# Create a dataset with tables"
   ]
  },
  {
   "cell_type": "code",
   "execution_count": null,
   "metadata": {},
   "outputs": [],
   "source": [
    "dataset_id = 'test_dataset'\n",
    "location = 'EU'\n",
    "bq = Bigquery(project_id, location, dataset_id)"
   ]
  },
  {
   "cell_type": "code",
   "execution_count": null,
   "metadata": {},
   "outputs": [],
   "source": [
    "bq.create_dataset()"
   ]
  },
  {
   "cell_type": "code",
   "execution_count": null,
   "metadata": {},
   "outputs": [],
   "source": [
    "# table 1\n",
    "table_users = 'users'\n",
    "schema_users = [bigquery.SchemaField('full_name', 'STRING', mode='REQUIRED'),\n",
    "                bigquery.SchemaField('age', 'INTEGER', mode='REQUIRED')]\n",
    "bq.create_table(table_users, schema_users)\n",
    "\n",
    "# table 2\n",
    "table_purchases = 'purchases'\n",
    "schema_purchases = [bigquery.SchemaField('purchase_time', 'TIMESTAMP', mode='REQUIRED'),\n",
    "                    bigquery.SchemaField('full_name', 'STRING', mode='REQUIRED'),\n",
    "                    bigquery.SchemaField('products', 'STRING', mode='REPEATED')]\n",
    "bq.create_table(table_purchases, schema_purchases)"
   ]
  },
  {
   "cell_type": "markdown",
   "metadata": {},
   "source": [
    "# Generate some random data and insert"
   ]
  },
  {
   "cell_type": "code",
   "execution_count": null,
   "metadata": {},
   "outputs": [],
   "source": [
    "users_data = [[names.get_first_name(), np.random.randint(18, 60)] for i in range(10)]"
   ]
  },
  {
   "cell_type": "code",
   "execution_count": null,
   "metadata": {},
   "outputs": [],
   "source": [
    "insert_result = bq.streaming_insert(users_data, table_users)"
   ]
  },
  {
   "cell_type": "code",
   "execution_count": null,
   "metadata": {},
   "outputs": [],
   "source": [
    "purchases_data = [(dt.datetime(2018, 1, np.random.randint(1, 32), np.random.randint(0, 24), tzinfo=pytz.UTC),\n",
    "                  names.get_first_name(),\n",
    "                  ['product{}'.format(j) for j in range(np.random.randint(1,4))]) for i in range(10)]"
   ]
  },
  {
   "cell_type": "code",
   "execution_count": null,
   "metadata": {},
   "outputs": [],
   "source": [
    "insert_result = bq.streaming_insert(purchases_data, table_purchases)"
   ]
  },
  {
   "cell_type": "markdown",
   "metadata": {},
   "source": [
    "# Create a query and execute"
   ]
  },
  {
   "cell_type": "code",
   "execution_count": null,
   "metadata": {},
   "outputs": [],
   "source": [
    "query = \"SELECT * FROM `{}.users` WHERE age > 9\".format(bq.dataset_id)\n",
    "# it is possible to validate your query first to prevent making unnecessary costs\n",
    "dry_run_result = bq.dry_run_query(query)\n",
    "dry_run_result"
   ]
  },
  {
   "cell_type": "code",
   "execution_count": null,
   "metadata": {},
   "outputs": [],
   "source": [
    "result = bq.execute_query(query)\n",
    "result = list(result)\n",
    "result"
   ]
  },
  {
   "cell_type": "code",
   "execution_count": null,
   "metadata": {},
   "outputs": [],
   "source": [
    "# Doing an invalid query\n",
    "bq.execute_query(\"SELECT * from henk\", validate_query=True)"
   ]
  },
  {
   "cell_type": "markdown",
   "metadata": {},
   "source": [
    "# Delete the dataset with all its tables"
   ]
  },
  {
   "cell_type": "code",
   "execution_count": null,
   "metadata": {},
   "outputs": [],
   "source": [
    "bq.delete_dataset()"
   ]
  },
  {
   "cell_type": "code",
   "execution_count": null,
   "metadata": {},
   "outputs": [],
   "source": []
  },
  {
   "cell_type": "code",
   "execution_count": null,
   "metadata": {},
   "outputs": [],
   "source": []
  }
 ],
 "metadata": {
  "kernelspec": {
   "display_name": "google-python-clients",
   "language": "python",
   "name": "google-python-clients"
  },
  "language_info": {
   "codemirror_mode": {
    "name": "ipython",
    "version": 3
   },
   "file_extension": ".py",
   "mimetype": "text/x-python",
   "name": "python",
   "nbconvert_exporter": "python",
   "pygments_lexer": "ipython3",
   "version": "3.6.7"
  }
 },
 "nbformat": 4,
 "nbformat_minor": 2
}
