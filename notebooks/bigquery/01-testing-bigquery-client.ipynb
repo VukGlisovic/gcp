{
 "cells": [
  {
   "cell_type": "code",
   "execution_count": 1,
   "metadata": {},
   "outputs": [],
   "source": [
    "%load_ext autoreload\n",
    "%autoreload 2\n",
    "# For reloading code such that code changes are taken into account"
   ]
  },
  {
   "cell_type": "code",
   "execution_count": 14,
   "metadata": {},
   "outputs": [],
   "source": [
    "project_id = 'test-project-221821'\n",
    "\n",
    "\n",
    "import os\n",
    "os.environ['GOOGLE_APPLICATION_CREDENTIALS'] = os.path.join(os.environ['HOME'], 'gcp/secret/admin-service-account.json')\n",
    "import sys\n",
    "sys.path.append(os.path.join(os.environ['HOME'], 'gcp'))\n",
    "\n",
    "from google.cloud import bigquery\n",
    "from bigquery.client import Bigquery\n",
    "\n",
    "import pytz\n",
    "import names\n",
    "import numpy as np\n",
    "import datetime as dt"
   ]
  },
  {
   "cell_type": "markdown",
   "metadata": {},
   "source": [
    "# Create a dataset with tables"
   ]
  },
  {
   "cell_type": "code",
   "execution_count": 15,
   "metadata": {},
   "outputs": [],
   "source": [
    "dataset_id = 'test_dataset'\n",
    "location = 'EU'\n",
    "bq = Bigquery(project_id, location, dataset_id)"
   ]
  },
  {
   "cell_type": "code",
   "execution_count": 3,
   "metadata": {},
   "outputs": [
    {
     "name": "stderr",
     "output_type": "stream",
     "text": [
      "INFO:root:Dataset test_dataset already exists\n"
     ]
    }
   ],
   "source": [
    "bq.create_dataset()"
   ]
  },
  {
   "cell_type": "code",
   "execution_count": 5,
   "metadata": {},
   "outputs": [],
   "source": [
    "# table 1\n",
    "table_users = 'users'\n",
    "schema_users = [bigquery.SchemaField('full_name', 'STRING', mode='REQUIRED'),\n",
    "                bigquery.SchemaField('age', 'INTEGER', mode='REQUIRED')]\n",
    "bq.create_table(table_users, schema_users)\n",
    "\n",
    "# table 2\n",
    "table_purchases = 'purchases'\n",
    "schema_purchases = [bigquery.SchemaField('purchase_time', 'TIMESTAMP', mode='REQUIRED'),\n",
    "                    bigquery.SchemaField('full_name', 'STRING', mode='REQUIRED'),\n",
    "                    bigquery.SchemaField('products', 'STRING', mode='REPEATED')]\n",
    "bq.create_table(table_purchases, schema_purchases)"
   ]
  },
  {
   "cell_type": "markdown",
   "metadata": {},
   "source": [
    "# Generate some random data and insert"
   ]
  },
  {
   "cell_type": "code",
   "execution_count": 6,
   "metadata": {},
   "outputs": [],
   "source": [
    "users_data = [[names.get_first_name(), np.random.randint(18, 60)] for i in range(10)]"
   ]
  },
  {
   "cell_type": "code",
   "execution_count": 7,
   "metadata": {},
   "outputs": [],
   "source": [
    "insert_result = bq.streaming_insert(users_data, table_users)"
   ]
  },
  {
   "cell_type": "code",
   "execution_count": 8,
   "metadata": {},
   "outputs": [],
   "source": [
    "purchases_data = [(dt.datetime(2018, 1, np.random.randint(1, 32), np.random.randint(0, 24), tzinfo=pytz.UTC),\n",
    "                  names.get_first_name(),\n",
    "                  ['product{}'.format(j) for j in range(np.random.randint(1,4))]) for i in range(10)]"
   ]
  },
  {
   "cell_type": "code",
   "execution_count": 9,
   "metadata": {},
   "outputs": [],
   "source": [
    "insert_result = bq.streaming_insert(purchases_data, table_purchases)"
   ]
  },
  {
   "cell_type": "markdown",
   "metadata": {},
   "source": [
    "# Create a query and execute"
   ]
  },
  {
   "cell_type": "code",
   "execution_count": 16,
   "metadata": {},
   "outputs": [
    {
     "name": "stderr",
     "output_type": "stream",
     "text": [
      "INFO:root:This query will process 0.000150680541992MB.\n"
     ]
    }
   ],
   "source": [
    "query = \"SELECT * FROM `{}.users` WHERE age > 9\".format(bq.dataset_id)\n",
    "# it is possible to validate your query first to prevent making unnecessary costs\n",
    "dry_run_result = bq.dry_run_query(query)"
   ]
  },
  {
   "cell_type": "code",
   "execution_count": 7,
   "metadata": {},
   "outputs": [],
   "source": [
    "result = bq.execute_query(query)\n",
    "result = list(result)\n",
    "result"
   ]
  },
  {
   "cell_type": "code",
   "execution_count": 16,
   "metadata": {},
   "outputs": [
    {
     "name": "stderr",
     "output_type": "stream",
     "text": [
      "ERROR:root:Table name \"henk\" cannot be resolved: dataset name is missing. Not executing query.\n"
     ]
    }
   ],
   "source": [
    "# Doing an invalid query\n",
    "bq.execute_query(\"SELECT * from henk\", validate_query=True)"
   ]
  },
  {
   "cell_type": "markdown",
   "metadata": {},
   "source": [
    "# Delete the dataset with all its tables"
   ]
  },
  {
   "cell_type": "code",
   "execution_count": 17,
   "metadata": {},
   "outputs": [
    {
     "name": "stderr",
     "output_type": "stream",
     "text": [
      "INFO:root:Deleted dataset test_dataset\n"
     ]
    }
   ],
   "source": [
    "bq.delete_dataset(dataset_id)"
   ]
  },
  {
   "cell_type": "code",
   "execution_count": null,
   "metadata": {},
   "outputs": [],
   "source": []
  },
  {
   "cell_type": "code",
   "execution_count": null,
   "metadata": {},
   "outputs": [],
   "source": []
  }
 ],
 "metadata": {
  "kernelspec": {
   "display_name": "google-python-clients",
   "language": "python",
   "name": "google-python-clients"
  },
  "language_info": {
   "codemirror_mode": {
    "name": "ipython",
    "version": 2
   },
   "file_extension": ".py",
   "mimetype": "text/x-python",
   "name": "python",
   "nbconvert_exporter": "python",
   "pygments_lexer": "ipython2",
   "version": "2.7.15"
  }
 },
 "nbformat": 4,
 "nbformat_minor": 2
}
