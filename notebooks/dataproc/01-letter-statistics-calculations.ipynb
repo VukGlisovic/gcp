{
 "cells": [
  {
   "cell_type": "code",
   "execution_count": 1,
   "metadata": {},
   "outputs": [],
   "source": [
    "%load_ext autoreload\n",
    "%autoreload 2"
   ]
  },
  {
   "cell_type": "code",
   "execution_count": 3,
   "metadata": {},
   "outputs": [],
   "source": [
    "project_id = 'test-project-221821'\n",
    "\n",
    "import os\n",
    "os.environ['GOOGLE_APPLICATION_CREDENTIALS'] = os.path.join(os.environ['HOME'], 'gcp/secret/admin-service-account.json')\n",
    "import sys\n",
    "sys.path.append(os.path.join(os.environ['HOME'], 'gcp'))\n",
    "\n",
    "from dataproc.client import DataProc"
   ]
  },
  {
   "cell_type": "code",
   "execution_count": 4,
   "metadata": {},
   "outputs": [],
   "source": [
    "region = 'europe-west1'\n",
    "zone_letter = 'd'\n",
    "\n",
    "dp = DataProc(project_id, region, zone_letter)"
   ]
  },
  {
   "cell_type": "markdown",
   "metadata": {},
   "source": [
    "# Create a cluster"
   ]
  },
  {
   "cell_type": "code",
   "execution_count": 6,
   "metadata": {},
   "outputs": [
    {
     "data": {
      "text/plain": [
       "{'name': 'projects/test-project-221821/regions/europe-west1/operations/f13830f5-2504-4b34-a461-3694d1e1bb57',\n",
       " 'metadata': {'@type': 'type.googleapis.com/google.cloud.dataproc.v1.ClusterOperationMetadata',\n",
       "  'clusterName': 'cluster-test',\n",
       "  'clusterUuid': '9bc22874-4a27-4176-9e8e-e0e3d005fb67',\n",
       "  'status': {'state': 'PENDING',\n",
       "   'innerState': 'PENDING',\n",
       "   'stateStartTime': '2019-01-19T22:00:12.586Z'},\n",
       "  'operationType': 'CREATE',\n",
       "  'description': 'Create cluster with 2 workers'}}"
      ]
     },
     "execution_count": 6,
     "metadata": {},
     "output_type": "execute_result"
    }
   ],
   "source": [
    "cluster_name = 'cluster-test'\n",
    "master_machine_type = 'n1-standard-1'\n",
    "nr_masters = 1\n",
    "master_boot_disk_gb = 200\n",
    "worker_machine_type = 'n1-standard-1'\n",
    "nr_workers = 2\n",
    "worker_boot_disk_gb = 100\n",
    "metadata = {'MINICONDA_VARIANT': '3', 'MINICONDA_VERSION': '4.5.11'}\n",
    "initialization_file = 'gs://letter_counts_example/initialize_cluster.sh'\n",
    "\n",
    "dp.create_cluster(cluster_name,\n",
    "                  master_machine_type,\n",
    "                  nr_masters,\n",
    "                  master_boot_disk_gb,\n",
    "                  worker_machine_type,\n",
    "                  nr_workers,\n",
    "                  worker_boot_disk_gb,\n",
    "                  metadata,\n",
    "                  initialization_file)"
   ]
  },
  {
   "cell_type": "markdown",
   "metadata": {},
   "source": [
    "# Submit a pyspark job"
   ]
  },
  {
   "cell_type": "code",
   "execution_count": 11,
   "metadata": {},
   "outputs": [
    {
     "data": {
      "text/plain": [
       "'45e9ed6a-3346-4ddc-a384-da9e86ab28c3'"
      ]
     },
     "execution_count": 11,
     "metadata": {},
     "output_type": "execute_result"
    }
   ],
   "source": [
    "main_python_file = 'gs://letter_counts_example/calculate_letter_statistics.py'\n",
    "script_parameters = ['--project_id={}'.format(project_id),\n",
    "                     '--input_file_glob=gs://letter_counts_example/letter_files/inputs/*',\n",
    "                     '--output_path=gs://letter_counts_example/letter_files/outputs/letter_statistics.csv']\n",
    "\n",
    "dp.submit_pyspark_job(cluster_name, main_python_file, script_parameters)"
   ]
  },
  {
   "cell_type": "markdown",
   "metadata": {},
   "source": [
    "# Cleanup: delete cluster"
   ]
  },
  {
   "cell_type": "code",
   "execution_count": 12,
   "metadata": {},
   "outputs": [
    {
     "data": {
      "text/plain": [
       "{'name': 'projects/test-project-221821/regions/europe-west1/operations/c125d49a-c5c8-48c7-9d17-ca3173e5aa5e',\n",
       " 'metadata': {'@type': 'type.googleapis.com/google.cloud.dataproc.v1.ClusterOperationMetadata',\n",
       "  'clusterName': 'cluster-test',\n",
       "  'clusterUuid': '9bc22874-4a27-4176-9e8e-e0e3d005fb67',\n",
       "  'status': {'state': 'PENDING',\n",
       "   'innerState': 'PENDING',\n",
       "   'stateStartTime': '2019-01-19T22:14:55.111Z'},\n",
       "  'operationType': 'DELETE',\n",
       "  'description': 'Delete cluster'}}"
      ]
     },
     "execution_count": 12,
     "metadata": {},
     "output_type": "execute_result"
    }
   ],
   "source": [
    "dp.delete_cluster(cluster_name)"
   ]
  },
  {
   "cell_type": "code",
   "execution_count": null,
   "metadata": {},
   "outputs": [],
   "source": []
  },
  {
   "cell_type": "code",
   "execution_count": null,
   "metadata": {},
   "outputs": [],
   "source": []
  },
  {
   "cell_type": "code",
   "execution_count": null,
   "metadata": {},
   "outputs": [],
   "source": []
  }
 ],
 "metadata": {
  "kernelspec": {
   "display_name": "Dataproc",
   "language": "python",
   "name": "dataproc"
  },
  "language_info": {
   "codemirror_mode": {
    "name": "ipython",
    "version": 3
   },
   "file_extension": ".py",
   "mimetype": "text/x-python",
   "name": "python",
   "nbconvert_exporter": "python",
   "pygments_lexer": "ipython3",
   "version": "3.6.7"
  }
 },
 "nbformat": 4,
 "nbformat_minor": 2
}
