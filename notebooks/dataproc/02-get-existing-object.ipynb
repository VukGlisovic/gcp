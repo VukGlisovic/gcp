{
 "cells": [
  {
   "cell_type": "markdown",
   "metadata": {},
   "source": [
    "# Get existing instance of a class\n",
    "\n",
    "This notebook demonstrates how you can get an existing instance of a class. This can be very useful if you only require one instance of the class.\n",
    "\n",
    "In the case of dataproc: say you already created a client. Now for some reason you need that client again, but you don't want to recreate that client cause it takes costly seconds to recreate the client; you simply want the already existing client. The following code demonstrates how to do that."
   ]
  },
  {
   "cell_type": "code",
   "execution_count": null,
   "metadata": {},
   "outputs": [],
   "source": [
    "class Minion(object):\n",
    "    \n",
    "    def __init__(self, name, age):\n",
    "        print(\"Minion __init__ is executed.\")\n",
    "        self.name = name\n",
    "        self.age = age\n",
    "        \n",
    "    def print_minion_description(self):\n",
    "        print(\"Hello, my name is {} and I'm {} years old.\".format(self.name, self.age))\n",
    "\n",
    "\n",
    "class MinionController(object):\n",
    "    \n",
    "    _minioncontroller__instance = None\n",
    "    \n",
    "    def __new__(cls, *args, **kwargs):\n",
    "        print(\"MinionController __new__\")\n",
    "        if not MinionController._minioncontroller__instance:\n",
    "            print(\"No existing minion controller.\")\n",
    "            MinionController._minioncontroller__instance = object.__new__(cls)\n",
    "        else:\n",
    "            print(\"A minion controller already exists.\")\n",
    "        return MinionController._minioncontroller__instance\n",
    "    \n",
    "    def get_minion(self, name, age):\n",
    "        minion_instance_name = '__minion_' + name\n",
    "        minion = getattr(self, minion_instance_name, None)\n",
    "        if not minion:\n",
    "            print(\"No existing minion.\")\n",
    "            minion = Minion(name, age)\n",
    "            setattr(self, minion_instance_name, minion)\n",
    "        else:\n",
    "            print(\"Minion with name {} already exists\".format(name))\n",
    "        return minion"
   ]
  },
  {
   "cell_type": "markdown",
   "metadata": {},
   "source": [
    "# Checkout the following creation of new objects and retrieval of existing objects"
   ]
  },
  {
   "cell_type": "code",
   "execution_count": null,
   "metadata": {},
   "outputs": [],
   "source": [
    "# Create a MinionController\n",
    "mc1 = MinionController()"
   ]
  },
  {
   "cell_type": "code",
   "execution_count": null,
   "metadata": {},
   "outputs": [],
   "source": [
    "# Create a minion named hank\n",
    "minion1 = mc1.get_minion('hank', 6)\n",
    "minion1.print_minion_description()"
   ]
  },
  {
   "cell_type": "code",
   "execution_count": null,
   "metadata": {},
   "outputs": [],
   "source": [
    "# Try to create another minion named hank that is one year older; it will retrieve the already existing minion that is 6\n",
    "minion1 = mc1.get_minion('hank', 7)\n",
    "minion1.print_minion_description()"
   ]
  },
  {
   "cell_type": "code",
   "execution_count": null,
   "metadata": {},
   "outputs": [],
   "source": [
    "# Create another minion with a different name\n",
    "minion2 = mc1.get_minion('fred', 6)\n",
    "minion2.print_minion_description()"
   ]
  },
  {
   "cell_type": "code",
   "execution_count": null,
   "metadata": {},
   "outputs": [],
   "source": [
    "# Try to create a new MinionController\n",
    "mc2 = MinionController()"
   ]
  },
  {
   "cell_type": "code",
   "execution_count": null,
   "metadata": {},
   "outputs": [],
   "source": [
    "# mc2 should already know fred the minion; it will therefore not create a new minion\n",
    "minion2 = mc2.get_minion('fred', 7)\n",
    "minion2.print_minion_description()"
   ]
  },
  {
   "cell_type": "markdown",
   "metadata": {},
   "source": [
    "# Checkout the hashes"
   ]
  },
  {
   "cell_type": "code",
   "execution_count": null,
   "metadata": {},
   "outputs": [],
   "source": [
    "mc1 == mc2"
   ]
  },
  {
   "cell_type": "code",
   "execution_count": null,
   "metadata": {},
   "outputs": [],
   "source": []
  },
  {
   "cell_type": "code",
   "execution_count": null,
   "metadata": {},
   "outputs": [],
   "source": []
  },
  {
   "cell_type": "code",
   "execution_count": null,
   "metadata": {},
   "outputs": [],
   "source": []
  }
 ],
 "metadata": {
  "kernelspec": {
   "display_name": "Dataproc",
   "language": "python",
   "name": "dataproc"
  },
  "language_info": {
   "codemirror_mode": {
    "name": "ipython",
    "version": 3
   },
   "file_extension": ".py",
   "mimetype": "text/x-python",
   "name": "python",
   "nbconvert_exporter": "python",
   "pygments_lexer": "ipython3",
   "version": "3.6.7"
  }
 },
 "nbformat": 4,
 "nbformat_minor": 2
}
