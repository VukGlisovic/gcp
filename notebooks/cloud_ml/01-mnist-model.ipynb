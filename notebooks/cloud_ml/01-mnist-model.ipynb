{
 "cells": [
  {
   "cell_type": "code",
   "execution_count": null,
   "metadata": {},
   "outputs": [],
   "source": [
    "%load_ext autoreload\n",
    "%autoreload 2"
   ]
  },
  {
   "cell_type": "code",
   "execution_count": null,
   "metadata": {},
   "outputs": [],
   "source": [
    "import os\n",
    "import tensorflow as tf\n",
    "import tensorflow.keras as keras\n",
    "\n",
    "from cloud_ml.examples.mnist.trainer import model as m"
   ]
  },
  {
   "cell_type": "markdown",
   "metadata": {},
   "source": [
    "# Create the mnist model"
   ]
  },
  {
   "cell_type": "code",
   "execution_count": null,
   "metadata": {},
   "outputs": [],
   "source": [
    "model_dir = os.path.join(os.environ['HOME'], 'gcp/cloud_ml/examples/mnist/outputs/')\n",
    "params = dict(learning_rate=0.0001)\n",
    "\n",
    "classifier = tf.estimator.Estimator(model_fn=m.model_fn,\n",
    "                                    model_dir=model_dir,\n",
    "                                    params=params)"
   ]
  },
  {
   "cell_type": "markdown",
   "metadata": {},
   "source": [
    "# Train the model"
   ]
  },
  {
   "cell_type": "code",
   "execution_count": null,
   "metadata": {},
   "outputs": [],
   "source": [
    "train_features_file = os.path.join(os.environ['HOME'], 'gcp/cloud_ml/examples/mnist/data/train/features.tfrecord')\n",
    "train_labels_file = os.path.join(os.environ['HOME'], 'gcp/cloud_ml/examples/mnist/data/train/labels.tfrecord')\n",
    "\n",
    "print(\"You can checkout tensorboard with the following command:\\ntensorboard --logdir='{}'\".format(model_dir))\n",
    "classifier.train(input_fn=lambda: m.input_fn(train_features_file, train_labels_file, epochs=3, batch_size=32, buffer_size=50))"
   ]
  },
  {
   "cell_type": "markdown",
   "metadata": {},
   "source": [
    "# Evaluate the model"
   ]
  },
  {
   "cell_type": "code",
   "execution_count": null,
   "metadata": {},
   "outputs": [],
   "source": [
    "evaluate_features_file = os.path.join(os.environ['HOME'], 'gcp/cloud_ml/examples/mnist/data/test/features.tfrecord')\n",
    "evaluate_labels_file = os.path.join(os.environ['HOME'], 'gcp/cloud_ml/examples/mnist/data/test/labels.tfrecord')\n",
    "\n",
    "print(\"Evaluate accuracy of the model.\")\n",
    "result = classifier.evaluate(input_fn=lambda: m.input_fn(evaluate_features_file, evaluate_labels_file, epochs=1, batch_size=50, buffer_size=0))\n",
    "print(\"Accuracy on evaluation set: {:.3f}\".format(result['accuracy']))"
   ]
  },
  {
   "cell_type": "code",
   "execution_count": null,
   "metadata": {},
   "outputs": [],
   "source": []
  },
  {
   "cell_type": "code",
   "execution_count": null,
   "metadata": {},
   "outputs": [],
   "source": []
  },
  {
   "cell_type": "code",
   "execution_count": null,
   "metadata": {},
   "outputs": [],
   "source": []
  },
  {
   "cell_type": "code",
   "execution_count": null,
   "metadata": {},
   "outputs": [],
   "source": []
  }
 ],
 "metadata": {
  "kernelspec": {
   "display_name": "google-python-clients",
   "language": "python",
   "name": "google-python-clients"
  },
  "language_info": {
   "codemirror_mode": {
    "name": "ipython",
    "version": 3
   },
   "file_extension": ".py",
   "mimetype": "text/x-python",
   "name": "python",
   "nbconvert_exporter": "python",
   "pygments_lexer": "ipython3",
   "version": "3.6.7"
  }
 },
 "nbformat": 4,
 "nbformat_minor": 2
}
