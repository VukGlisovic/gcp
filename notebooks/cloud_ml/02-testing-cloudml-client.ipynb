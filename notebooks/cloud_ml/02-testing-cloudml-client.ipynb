{
 "cells": [
  {
   "cell_type": "markdown",
   "metadata": {},
   "source": [
    "# Notebook for training and serving a model on cloud ml"
   ]
  },
  {
   "cell_type": "code",
   "execution_count": 1,
   "metadata": {},
   "outputs": [],
   "source": [
    "%load_ext autoreload\n",
    "%autoreload 2"
   ]
  },
  {
   "cell_type": "code",
   "execution_count": 17,
   "metadata": {},
   "outputs": [],
   "source": [
    "import os\n",
    "project_id = os.environ['TEST_PROJECT_ID']\n",
    "import datetime as dt\n",
    "\n",
    "from cloud_ml.client import CloudML\n",
    "from cloud_storage.client import CloudStorage"
   ]
  },
  {
   "cell_type": "code",
   "execution_count": 18,
   "metadata": {},
   "outputs": [],
   "source": [
    "ml = CloudML(project_id)\n",
    "cs = CloudStorage(project_id)"
   ]
  },
  {
   "cell_type": "markdown",
   "metadata": {},
   "source": [
    "# Create a model and bucket for storing data"
   ]
  },
  {
   "cell_type": "code",
   "execution_count": 4,
   "metadata": {},
   "outputs": [
    {
     "name": "stderr",
     "output_type": "stream",
     "text": [
      "INFO:googleapiclient.discovery:URL being requested: POST https://ml.googleapis.com/v1/projects/test-project-221821/models?alt=json\n",
      "ERROR:root:Field: model.name Error: A model with the same name already exists.\n"
     ]
    }
   ],
   "source": [
    "model_name = 'test_model'\n",
    "description = 'test description'\n",
    "regions = ['europe-west1']\n",
    "\n",
    "ml.create_model(model_name, description, regions)"
   ]
  },
  {
   "cell_type": "code",
   "execution_count": 5,
   "metadata": {},
   "outputs": [
    {
     "name": "stdout",
     "output_type": "stream",
     "text": [
      "Bucket probably already exists. Either you have created you bucket already or you have to specify a different name.\n"
     ]
    }
   ],
   "source": [
    "bucket_name = 'vuk-mnist-example'\n",
    "try:\n",
    "    cs.create_bucket(bucket_name, location='EU')\n",
    "except:\n",
    "    print('Bucket probably already exists. Either you have created you bucket already or you have to specify a different name.')"
   ]
  },
  {
   "cell_type": "markdown",
   "metadata": {},
   "source": [
    "# Package and upload your training application and upload the data\n",
    "\n",
    "You can use the gcloud to start a job, this will automatically package your training application. However, here we will package our training application ourselves. You can package your trainer, by navigating to the folder containing the `trainer` package and execute:\n",
    "```\n",
    "python setup.py sdist\n",
    "```\n",
    "A `dist` directory will be created where you can find your `tar.gz` file.\n",
    "\n",
    "Use the following `gsutil` command to upload the mnist model training package and the data:\n",
    "```\n",
    "gsutil cp ${HOME}/gcp/cloud_ml/examples/mnist/dist/* gs://vuk-mnist-example/training/\n",
    "gsutil -m cp -r ${HOME}/gcp/cloud_ml/examples/mnist/data gs://vuk-mnist-example/training/\n",
    "```"
   ]
  },
  {
   "cell_type": "markdown",
   "metadata": {},
   "source": [
    "# Train the model"
   ]
  },
  {
   "cell_type": "code",
   "execution_count": 9,
   "metadata": {},
   "outputs": [
    {
     "name": "stderr",
     "output_type": "stream",
     "text": [
      "INFO:googleapiclient.discovery:URL being requested: POST https://ml.googleapis.com/v1/projects/test-project-221821/jobs?alt=json\n"
     ]
    },
    {
     "data": {
      "text/plain": [
       "{'jobId': 'mnist_20190127_183425',\n",
       " 'trainingInput': {'packageUris': ['gs://vuk-mnist-example/training/trainer-0.1.tar.gz'],\n",
       "  'pythonModule': 'trainer.task',\n",
       "  'args': ['--train_data_folder=gs://vuk-mnist-example/training/data/train/',\n",
       "   '--evaluation_data_folder=gs://vuk-mnist-example/training/data/test/',\n",
       "   '--model_dir=gs://vuk-mnist-example/training/outputs/',\n",
       "   '--nr_epochs=4',\n",
       "   '--learning_rate=0.0001'],\n",
       "  'region': 'europe-west1',\n",
       "  'runtimeVersion': '1.12',\n",
       "  'jobDir': 'gs://vuk-mnist-example/training/outputs/',\n",
       "  'pythonVersion': '3.5'},\n",
       " 'createTime': '2019-01-27T18:34:28Z',\n",
       " 'state': 'QUEUED',\n",
       " 'trainingOutput': {},\n",
       " 'etag': 'be25fnQlTpo='}"
      ]
     },
     "execution_count": 9,
     "metadata": {},
     "output_type": "execute_result"
    }
   ],
   "source": [
    "job_id = 'mnist_' + dt.datetime.utcnow().strftime('%Y%m%d_%H%M%S')\n",
    "scale_tier = 'BASIC'\n",
    "package_uris = ['gs://{}/training/trainer-0.1.tar.gz'.format(bucket_name)]\n",
    "python_module = 'trainer.task'\n",
    "region = 'europe-west1'\n",
    "job_dir = 'gs://{}/training/outputs/'.format(bucket_name)\n",
    "runtime_version = '1.12'\n",
    "python_version = '3.5'\n",
    "job_arguments = ['--train_data_folder=gs://{}/training/data/train/'.format(bucket_name),\n",
    "                 '--evaluation_data_folder=gs://{}/training/data/test/'.format(bucket_name),\n",
    "                 '--model_dir={}'.format(job_dir),\n",
    "                 '--nr_epochs=4',\n",
    "                 '--learning_rate=0.0001']\n",
    "\n",
    "response = ml.start_training_job(job_id,\n",
    "                                 scale_tier,\n",
    "                                 package_uris,\n",
    "                                 python_module,\n",
    "                                 region,\n",
    "                                 job_dir,\n",
    "                                 runtime_version,\n",
    "                                 python_version,\n",
    "                                 job_arguments)\n",
    "response"
   ]
  },
  {
   "cell_type": "markdown",
   "metadata": {},
   "source": [
    "# Get the job to inspect the status"
   ]
  },
  {
   "cell_type": "code",
   "execution_count": 16,
   "metadata": {},
   "outputs": [
    {
     "name": "stderr",
     "output_type": "stream",
     "text": [
      "INFO:googleapiclient.discovery:URL being requested: GET https://ml.googleapis.com/v1/projects/test-project-221821/jobs/mnist_20190127_183425?alt=json\n"
     ]
    },
    {
     "name": "stdout",
     "output_type": "stream",
     "text": [
      "Job status: SUCCEEDED\n"
     ]
    }
   ],
   "source": [
    "response = ml.get_job(job_id)\n",
    "print(\"Job status: {}\".format(response['state']))"
   ]
  },
  {
   "cell_type": "markdown",
   "metadata": {},
   "source": [
    "# Create a version for the model\n",
    "\n",
    "We have already created a model, now we have to create a version under the model that can be used for predictions.\n",
    "\n",
    "If this is the first version that is being created, then it will automatically be set as the default version used for predictions. However, if this is not the first version of this model, then you have to promote the version to be the default version for predictions."
   ]
  },
  {
   "cell_type": "code",
   "execution_count": null,
   "metadata": {},
   "outputs": [],
   "source": [
    "version_name = 'neural_network_' + dt.datetime.utcnow().strftime('%Y%m%d_%H%M%S')\n",
    "deployment_uri = 'gs://{}/training/outputs/'.format(bucket_name)\n",
    "\n",
    "ml.create_model_version(model_name, version_name)"
   ]
  },
  {
   "cell_type": "code",
   "execution_count": null,
   "metadata": {},
   "outputs": [],
   "source": []
  },
  {
   "cell_type": "markdown",
   "metadata": {},
   "source": [
    "# Clean up"
   ]
  },
  {
   "cell_type": "code",
   "execution_count": null,
   "metadata": {},
   "outputs": [],
   "source": [
    "ml.delete_model(model_name)"
   ]
  },
  {
   "cell_type": "code",
   "execution_count": null,
   "metadata": {},
   "outputs": [],
   "source": [
    "cs.delete_bucket(bucket_name)"
   ]
  },
  {
   "cell_type": "code",
   "execution_count": null,
   "metadata": {},
   "outputs": [],
   "source": []
  },
  {
   "cell_type": "code",
   "execution_count": null,
   "metadata": {},
   "outputs": [],
   "source": []
  }
 ],
 "metadata": {
  "kernelspec": {
   "display_name": "google-python-clients",
   "language": "python",
   "name": "google-python-clients"
  },
  "language_info": {
   "codemirror_mode": {
    "name": "ipython",
    "version": 3
   },
   "file_extension": ".py",
   "mimetype": "text/x-python",
   "name": "python",
   "nbconvert_exporter": "python",
   "pygments_lexer": "ipython3",
   "version": "3.6.7"
  }
 },
 "nbformat": 4,
 "nbformat_minor": 2
}
