{
 "cells": [
  {
   "cell_type": "code",
   "execution_count": null,
   "metadata": {},
   "outputs": [],
   "source": [
    "%load_ext autoreload\n",
    "%autoreload 2\n",
    "# For reloading code such that code changes are taken into account"
   ]
  },
  {
   "cell_type": "code",
   "execution_count": null,
   "metadata": {},
   "outputs": [],
   "source": [
    "project_id = 'test-project-221821'\n",
    "\n",
    "import os\n",
    "os.environ['GOOGLE_APPLICATION_CREDENTIALS'] = os.path.join(os.environ['HOME'], 'gcp/secret/admin-service-account.json')\n",
    "import sys\n",
    "sys.path.append(os.path.join(os.environ['HOME'], 'gcp'))\n",
    "import time\n",
    "\n",
    "from pubsub import client as pubsub_client"
   ]
  },
  {
   "cell_type": "code",
   "execution_count": null,
   "metadata": {},
   "outputs": [],
   "source": [
    "ps_client = pubsub_client.PubSub(project_id)"
   ]
  },
  {
   "cell_type": "markdown",
   "metadata": {},
   "source": [
    "# Create a topic\n",
    "\n",
    "First create a topic where we can publish messages to."
   ]
  },
  {
   "cell_type": "code",
   "execution_count": null,
   "metadata": {},
   "outputs": [],
   "source": [
    "topic_name = 'test_topic'\n",
    "\n",
    "ps_client.create_topic(topic_name)"
   ]
  },
  {
   "cell_type": "code",
   "execution_count": null,
   "metadata": {},
   "outputs": [],
   "source": [
    "print(\"The topic exists now: {}\".format(ps_client.check_topic_existence(topic_name)))"
   ]
  },
  {
   "cell_type": "markdown",
   "metadata": {},
   "source": [
    "# Create a subscription\n",
    "\n",
    "This allows us to poll for messages. A subscription always belongs to one topic. A topic can have multiple subscriptions, but not the other way around."
   ]
  },
  {
   "cell_type": "code",
   "execution_count": null,
   "metadata": {},
   "outputs": [],
   "source": [
    "subscription_name = 'test_subscription'\n",
    "\n",
    "ps_client.create_subscription(subscription_name, topic_name, ack_deadline_seconds=10)"
   ]
  },
  {
   "cell_type": "markdown",
   "metadata": {},
   "source": [
    "# Publish messages on the topic"
   ]
  },
  {
   "cell_type": "code",
   "execution_count": null,
   "metadata": {},
   "outputs": [],
   "source": [
    "data_to_publish = 'Hello pubsub!'\n",
    "data_to_publish = data_to_publish.encode('utf-8')\n",
    "attributes = {'value': '42'}\n",
    "\n",
    "\n",
    "def publish_callback(message_future):\n",
    "    \"\"\"This callback let's you know whether a message was\n",
    "    succesfully published.\n",
    "    \"\"\"\n",
    "    if message_future.exception(timeout=20):\n",
    "        print(\"Unable to publishd message.\")\n",
    "    else:\n",
    "        print(\"Published message with id: {}\".format(message_future.result()))"
   ]
  },
  {
   "cell_type": "code",
   "execution_count": null,
   "metadata": {},
   "outputs": [],
   "source": [
    "ps_client.publish_message(topic_name, data_to_publish, publish_callback, **attributes)"
   ]
  },
  {
   "cell_type": "markdown",
   "metadata": {},
   "source": [
    "# Pull messages from the subscription"
   ]
  },
  {
   "cell_type": "code",
   "execution_count": null,
   "metadata": {},
   "outputs": [],
   "source": [
    "response_list = ps_client.pull_message(subscription_name)"
   ]
  },
  {
   "cell_type": "code",
   "execution_count": null,
   "metadata": {},
   "outputs": [],
   "source": [
    "# In order to make sure the message doesn't get republished, we have to acknowledge the message within 10 seconds\n",
    "if response_list:\n",
    "    response = response_list[0]\n",
    "    ack_id = response.ack_id\n",
    "    message = response.message\n",
    "    response_data = message.data.decode('utf-8')\n",
    "    response_attributes = dict(message.attributes.items())\n",
    "    print(response_data, response_attributes)\n",
    "    ps_client.subscriber_client.acknowledge(ps_client.create_subscription_path(subscription_name), [ack_id])\n",
    "else:\n",
    "    print(\"No messages in queue anymore.\")"
   ]
  },
  {
   "cell_type": "markdown",
   "metadata": {},
   "source": [
    "# Streaming pull from a subscription"
   ]
  },
  {
   "cell_type": "code",
   "execution_count": null,
   "metadata": {},
   "outputs": [],
   "source": [
    "def print_message(message):\n",
    "    \"\"\"Callback function for streaming pull.\n",
    "    \n",
    "    Args:\n",
    "        message (google.cloud.pubsub_v1.subscriber.message.Message):\n",
    "    \"\"\"\n",
    "    response_data = message.data.decode('utf-8')\n",
    "    response_attributes = dict(message.attributes.items())\n",
    "    print(response_data, response_attributes)\n",
    "    message.ack()"
   ]
  },
  {
   "cell_type": "code",
   "execution_count": null,
   "metadata": {},
   "outputs": [],
   "source": [
    "# Publish a number of messages on the topic\n",
    "nr_messages_to_publish = 3\n",
    "for i in range(nr_messages_to_publish):\n",
    "    ps_client.publish_message(topic_name, data_to_publish, publish_callback, **attributes)"
   ]
  },
  {
   "cell_type": "code",
   "execution_count": null,
   "metadata": {},
   "outputs": [],
   "source": [
    "# Start streaming pull for messages. Let's pick up the messages we just published.\n",
    "streaming_pull_future = ps_client.subscribe(subscription_name, print_message)"
   ]
  },
  {
   "cell_type": "code",
   "execution_count": null,
   "metadata": {},
   "outputs": [],
   "source": [
    "# Stop streaming pull\n",
    "streaming_pull_future.cancel()"
   ]
  },
  {
   "cell_type": "markdown",
   "metadata": {},
   "source": [
    "# Cleanup"
   ]
  },
  {
   "cell_type": "code",
   "execution_count": null,
   "metadata": {},
   "outputs": [],
   "source": [
    "# This will not delete the subscription(s) that belong to the topic\n",
    "ps_client.delete_topic(topic_name)"
   ]
  },
  {
   "cell_type": "code",
   "execution_count": null,
   "metadata": {},
   "outputs": [],
   "source": [
    "ps_client.delete_subscription(subscription_name)"
   ]
  },
  {
   "cell_type": "code",
   "execution_count": null,
   "metadata": {},
   "outputs": [],
   "source": []
  },
  {
   "cell_type": "code",
   "execution_count": null,
   "metadata": {},
   "outputs": [],
   "source": []
  }
 ],
 "metadata": {
  "kernelspec": {
   "display_name": "google-python-clients",
   "language": "python",
   "name": "google-python-clients"
  },
  "language_info": {
   "codemirror_mode": {
    "name": "ipython",
    "version": 3
   },
   "file_extension": ".py",
   "mimetype": "text/x-python",
   "name": "python",
   "nbconvert_exporter": "python",
   "pygments_lexer": "ipython3",
   "version": "3.6.7"
  }
 },
 "nbformat": 4,
 "nbformat_minor": 2
}
