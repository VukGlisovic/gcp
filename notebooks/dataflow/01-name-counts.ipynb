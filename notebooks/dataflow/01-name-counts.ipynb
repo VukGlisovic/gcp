{
 "cells": [
  {
   "cell_type": "markdown",
   "metadata": {},
   "source": [
    "# This notebook demonstrates the use of the DataFlow client"
   ]
  },
  {
   "cell_type": "code",
   "execution_count": null,
   "metadata": {},
   "outputs": [],
   "source": [
    "import os\n",
    "project_id = os.environ['TEST_PROJECT_ID']\n",
    "\n",
    "import datetime as dt\n",
    "from dataflow.client import DataFlow"
   ]
  },
  {
   "cell_type": "code",
   "execution_count": null,
   "metadata": {},
   "outputs": [],
   "source": [
    "region = 'europe-west1'\n",
    "zone_letter = 'c'\n",
    "\n",
    "df = DataFlow(project_id, region, zone_letter)"
   ]
  },
  {
   "cell_type": "markdown",
   "metadata": {},
   "source": [
    "# Launch a job from a template in cloud storage"
   ]
  },
  {
   "cell_type": "code",
   "execution_count": null,
   "metadata": {},
   "outputs": [],
   "source": [
    "template_path = 'gs://name_counts_example_for_testing/dataflow/templates/name_counts'\n",
    "temp_location = 'gs://name_counts_example_for_testing/dataflow/temp'\n",
    "job_name = 'name_counts_' + dt.datetime.utcnow().strftime('%Y%m%d_%H%M%S')\n",
    "parameters = {'input_path': 'gs://name_counts_example_for_testing/data/inputs/name_file_*',\n",
    "              'output_path_template': 'gs://name_counts_example_for_testing/data/output_{}.txt'}\n",
    "max_workers = 2\n",
    "machine_type = 'n1-standard-1'\n",
    "\n",
    "response = df.submit_job_from_template(template_path, temp_location, job_name, parameters, max_workers, machine_type)\n",
    "job_id = response['id']\n",
    "response"
   ]
  },
  {
   "cell_type": "markdown",
   "metadata": {},
   "source": [
    "# Get job information"
   ]
  },
  {
   "cell_type": "code",
   "execution_count": null,
   "metadata": {},
   "outputs": [],
   "source": [
    "job_info = df.get_job(job_id)\n",
    "job_info"
   ]
  },
  {
   "cell_type": "markdown",
   "metadata": {},
   "source": [
    "# Cleanup\n",
    "\n",
    "Remove the cloud storage bucket and you're set."
   ]
  },
  {
   "cell_type": "code",
   "execution_count": null,
   "metadata": {},
   "outputs": [],
   "source": []
  },
  {
   "cell_type": "code",
   "execution_count": null,
   "metadata": {},
   "outputs": [],
   "source": []
  }
 ],
 "metadata": {
  "kernelspec": {
   "display_name": "Dataflow",
   "language": "python",
   "name": "dataflow"
  },
  "language_info": {
   "codemirror_mode": {
    "name": "ipython",
    "version": 2
   },
   "file_extension": ".py",
   "mimetype": "text/x-python",
   "name": "python",
   "nbconvert_exporter": "python",
   "pygments_lexer": "ipython2",
   "version": "2.7.15"
  }
 },
 "nbformat": 4,
 "nbformat_minor": 2
}
